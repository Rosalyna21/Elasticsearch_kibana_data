{
 "cells": [
  {
   "cell_type": "code",
   "execution_count": 2,
   "id": "62cf665c",
   "metadata": {},
   "outputs": [
    {
     "name": "stdout",
     "output_type": "stream",
     "text": [
      "En-têtes de colonnes ajoutés avec succès.\n"
     ]
    }
   ],
   "source": [
    "import csv\n",
    "# nommer les colonnes d'un csv\n",
    "\n",
    "# Spécifiez le nom de votre fichier CSV d'entrée et de sortie\n",
    "fichier_entree = \"bano-21.csv\"\n",
    "fichier_sortie = \"nouveau_fichier.csv\"\n",
    "\n",
    "# Définissez les en-têtes de colonnes que vous souhaitez ajouter\n",
    "nouveaux_en_tetes = [\"BAN\", \"num\", \"adresse\",\"code_postal\",\"ville\",\"ZA\",\"X\",\"Y\"]\n",
    "\n",
    "# Ouvrez le fichier d'entrée en mode lecture\n",
    "with open(fichier_entree, 'r', newline='') as csv_entree:\n",
    "    # Ouvrez le fichier de sortie en mode écriture\n",
    "    with open(fichier_sortie, 'w', newline='') as csv_sortie:\n",
    "        lecteur_csv = csv.reader(csv_entree)\n",
    "        ecrivain_csv = csv.writer(csv_sortie)\n",
    "\n",
    "        # Écrivez les nouveaux en-têtes de colonnes dans le fichier de sortie\n",
    "        ecrivain_csv.writerow(nouveaux_en_tetes)\n",
    "\n",
    "        # Copiez les lignes existantes du fichier d'entrée vers le fichier de sortie\n",
    "        for ligne in lecteur_csv:\n",
    "            ecrivain_csv.writerow(ligne)\n",
    "\n",
    "print(\"En-têtes de colonnes ajoutés avec succès.\")\n"
   ]
  },
  {
   "cell_type": "code",
   "execution_count": 4,
   "id": "508f703e",
   "metadata": {},
   "outputs": [],
   "source": [
    "import pandas as pd"
   ]
  },
  {
   "cell_type": "code",
   "execution_count": 5,
   "id": "d128d725",
   "metadata": {},
   "outputs": [
    {
     "name": "stdout",
     "output_type": "stream",
     "text": [
      "             BAN num         adresse  code_postal      ville   ZA          X  \\\n",
      "0   210010022B-1   1  Rue de Citeaux        21700  Agencourt  C+O  47.128003   \n",
      "1  210010022B-10  10  Rue de Citeaux        21700  Agencourt  C+O  47.127759   \n",
      "2  210010022B-11  11  Rue de Citeaux        21700  Agencourt  C+O  47.127800   \n",
      "3  210010022B-12  12  Rue de Citeaux        21700  Agencourt  C+O  47.127730   \n",
      "4  210010022B-13  13  Rue de Citeaux        21700  Agencourt  C+O  47.127721   \n",
      "\n",
      "          Y  \n",
      "0  4.981303  \n",
      "1  4.982275  \n",
      "2  4.982668  \n",
      "3  4.982469  \n",
      "4  4.983235  \n",
      "<class 'pandas.core.frame.DataFrame'>\n",
      "RangeIndex: 218931 entries, 0 to 218930\n",
      "Data columns (total 8 columns):\n",
      " #   Column       Non-Null Count   Dtype  \n",
      "---  ------       --------------   -----  \n",
      " 0   BAN          218931 non-null  object \n",
      " 1   num          218931 non-null  object \n",
      " 2   adresse      218931 non-null  object \n",
      " 3   code_postal  218931 non-null  int64  \n",
      " 4   ville        218931 non-null  object \n",
      " 5   ZA           218931 non-null  object \n",
      " 6   X            218931 non-null  float64\n",
      " 7   Y            218931 non-null  float64\n",
      "dtypes: float64(2), int64(1), object(5)\n",
      "memory usage: 13.4+ MB\n",
      "None\n"
     ]
    }
   ],
   "source": [
    "#transformer le csv en dataframe\n",
    "# Chemin vers votre fichier CSV\n",
    "chemin_fichier_csv = \"nouveau_fichier.csv\"\n",
    "\n",
    "# Lire le CSV et le convertir en DataFrame\n",
    "data_frame = pd.read_csv(chemin_fichier_csv)\n",
    "\n",
    "# Maintenant, vous pouvez utiliser le DataFrame pour effectuer des opérations et des analyses\n",
    "# Par exemple, pour afficher les premières lignes du DataFrame :\n",
    "print(data_frame.head())\n",
    "\n",
    "# Pour obtenir des informations sur le DataFrame (nombre de lignes, colonnes, types de données, etc.):\n",
    "print(data_frame.info())\n"
   ]
  },
  {
   "cell_type": "code",
   "execution_count": 12,
   "id": "0b68034a",
   "metadata": {},
   "outputs": [
    {
     "name": "stdout",
     "output_type": "stream",
     "text": [
      "                  BAN num           adresse  code_postal  \\\n",
      "0        210010022B-1   1    Rue de Citeaux        21700   \n",
      "1       210010022B-10  10    Rue de Citeaux        21700   \n",
      "2       210010022B-11  11    Rue de Citeaux        21700   \n",
      "3       210010022B-12  12    Rue de Citeaux        21700   \n",
      "4       210010022B-13  13    Rue de Citeaux        21700   \n",
      "...               ...  ..               ...          ...   \n",
      "218926   217170170Z-7   7     Rue du Tertre        21290   \n",
      "218927   217170170Z-9   9     Rue du Tertre        21290   \n",
      "218928   21717b0bbb-1   1  Route des Marots        21290   \n",
      "218929   21717b0bbb-2   2  Route des Marots        21290   \n",
      "218930   21717b0bbb-4   4  Route des Marots        21290   \n",
      "\n",
      "                          ville   ZA          X         Y              Coords  \n",
      "0                     Agencourt  C+O  47.128003  4.981303  47.128003,4.981303  \n",
      "1                     Agencourt  C+O  47.127759  4.982275  47.127759,4.982275  \n",
      "2                     Agencourt  C+O  47.127800  4.982668    47.1278,4.982668  \n",
      "3                     Agencourt  C+O  47.127730  4.982469   47.12773,4.982469  \n",
      "4                     Agencourt  C+O  47.127721  4.983235  47.127721,4.983235  \n",
      "...                         ...  ...        ...       ...                 ...  \n",
      "218926  Voulaines-les-Templiers  OSM  47.820919  4.778251  47.820919,4.778251  \n",
      "218927  Voulaines-les-Templiers  OSM  47.821701  4.777641  47.821701,4.777641  \n",
      "218928  Voulaines-les-Templiers  CAD  47.814176  4.766458  47.814176,4.766458  \n",
      "218929  Voulaines-les-Templiers  CAD  47.815451  4.773532  47.815451,4.773532  \n",
      "218930  Voulaines-les-Templiers  CAD  47.813905  4.772005  47.813905,4.772005  \n",
      "\n",
      "[218931 rows x 9 columns]\n"
     ]
    }
   ],
   "source": [
    "# créer la colonne Coords réuni les X et Y séparer par une virgule pour que le format soit interprétable par kibana\n",
    "#le type de donnée a été modifié dans les options avancées dans le json.\n",
    "df = pd.DataFrame(data_frame)\n",
    "\n",
    "# Fonction pour concaténer les deux colonnes avec un espace et la stocker dans une troisième\n",
    "def concat_colonnes(row):\n",
    "    return str(row['X']) + ',' + str(row['Y'])\n",
    "\n",
    "# Appliquer la fonction à chaque ligne du DataFrame\n",
    "df['Coords'] = df.apply(concat_colonnes, axis=1)\n",
    "\n",
    "# Afficher le DataFrame résultant\n",
    "print(df)\n"
   ]
  },
  {
   "cell_type": "code",
   "execution_count": 13,
   "id": "ce72f470",
   "metadata": {},
   "outputs": [],
   "source": [
    "# Enregistrer le DataFrame dans un fichier CSV\n",
    "chemin_fichier_csv = \"mon_dataframe.csv\"\n",
    "df.to_csv(chemin_fichier_csv, index=False)"
   ]
  },
  {
   "cell_type": "code",
   "execution_count": 14,
   "id": "6c2d6d71",
   "metadata": {},
   "outputs": [
    {
     "name": "stdout",
     "output_type": "stream",
     "text": [
      "Le fichier CSV a été converti en JSON et enregistré sous donnees.json.\n"
     ]
    }
   ],
   "source": [
    "# trasformation d'un csv en json\n",
    "import csv\n",
    "import json\n",
    "\n",
    "# Chemin vers le fichier CSV\n",
    "chemin_fichier_csv = \"mon_dataframe.csv\"\n",
    "\n",
    "# Chemin de sortie pour le fichier JSON\n",
    "chemin_fichier_json = \"donnees.json\"\n",
    "\n",
    "# Lire le CSV et convertir en JSON\n",
    "data = []\n",
    "with open(chemin_fichier_csv, 'r') as fichier_csv:\n",
    "    lecteur_csv = csv.DictReader(fichier_csv)\n",
    "    for ligne in lecteur_csv:\n",
    "        data.append(ligne)\n",
    "\n",
    "# Écrire les données JSON dans un fichier\n",
    "with open(chemin_fichier_json, 'w') as fichier_json:\n",
    "    json.dump(data, fichier_json, indent=4)\n",
    "\n",
    "print(f\"Le fichier CSV a été converti en JSON et enregistré sous {chemin_fichier_json}.\")\n"
   ]
  },
  {
   "cell_type": "code",
   "execution_count": 2,
   "id": "6532a8da",
   "metadata": {},
   "outputs": [],
   "source": [
    "import requests"
   ]
  },
  {
   "cell_type": "code",
   "execution_count": null,
   "id": "d98e63cf",
   "metadata": {},
   "outputs": [],
   "source": [
    "reponse = request.get()\n",
    "data= reponse.json()"
   ]
  },
  {
   "cell_type": "code",
   "execution_count": null,
   "id": "3338907b",
   "metadata": {},
   "outputs": [],
   "source": [
    "print(data)"
   ]
  }
 ],
 "metadata": {
  "kernelspec": {
   "display_name": "Python 3 (ipykernel)",
   "language": "python",
   "name": "python3"
  },
  "language_info": {
   "codemirror_mode": {
    "name": "ipython",
    "version": 3
   },
   "file_extension": ".py",
   "mimetype": "text/x-python",
   "name": "python",
   "nbconvert_exporter": "python",
   "pygments_lexer": "ipython3",
   "version": "3.10.9"
  }
 },
 "nbformat": 4,
 "nbformat_minor": 5
}
